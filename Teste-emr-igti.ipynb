{
 "cells": [
  {
   "cell_type": "code",
   "execution_count": null,
   "id": "3247f0c4",
   "metadata": {},
   "outputs": [],
   "source": [
    "import pyspark"
   ]
  },
  {
   "cell_type": "code",
   "execution_count": null,
   "id": "301dc862",
   "metadata": {},
   "outputs": [],
   "source": [
    "#ler os dados do enem 2019\n",
    "enem = (\n",
    "    spark\n",
    "    .read\n",
    "    .format(\"csv\")\n",
    "    .option(\"header\",True)\n",
    "    .option(\"inferSchema\", True)\n",
    "    .option(\"delimiter\", \";\")\n",
    "    .load(\"s3://datalake-igti-cleyber/raw-data/enem/\")\n",
    "    \n",
    ")"
   ]
  }
 ],
 "metadata": {
  "kernelspec": {
   "display_name": "",
   "name": ""
  },
  "language_info": {
   "name": ""
  }
 },
 "nbformat": 4,
 "nbformat_minor": 5
}
